{
 "cells": [
  {
   "cell_type": "code",
   "execution_count": 6,
   "metadata": {},
   "outputs": [],
   "source": [
    "#%env MXNET_CPU_WORKER_NTHREADS=4\n",
    "import scipy.io as sio\n",
    "from scipy.sparse.linalg import svds, eigs\n",
    "import warnings\n",
    "import numpy as np\n",
    "import matplotlib.pyplot as plt\n",
    "warnings.filterwarnings('ignore')\n",
    "import mxnet as mx\n",
    "from mxnet import nd, autograd, gluon\n",
    "from time import time\n",
    "mx.random.seed(1)"
   ]
  },
  {
   "cell_type": "code",
   "execution_count": 3,
   "metadata": {},
   "outputs": [
    {
     "name": "stdout",
     "output_type": "stream",
     "text": [
      "0.278423070908\n"
     ]
    }
   ],
   "source": [
    "x1 = np.random.rand(2000,2000)\n",
    "x2 = np.random.rand(2000,2000)\n",
    "start = time()\n",
    "z = np.dot(x1,x2)\n",
    "print(time() - start)"
   ]
  },
  {
   "cell_type": "code",
   "execution_count": 5,
   "metadata": {},
   "outputs": [
    {
     "name": "stdout",
     "output_type": "stream",
     "text": [
      "=== workloads are pushed into the backend engine ===\n",
      "0.006762 sec\n",
      "=== workloads are finished ===\n",
      "0.394464 sec\n"
     ]
    }
   ],
   "source": [
    "start = time()\n",
    "ctxts = [mx.cpu(0),mx.cpu(1)]\n",
    "x1 = nd.random_uniform(shape=(2000,2000), ctx=ctxts[0])\n",
    "x2 = nd.random_uniform(shape=(2000,2000), ctx=ctxts[1])\n",
    "y1 = nd.dot(x1, x1)\n",
    "y2 = nd.dot(x2, x2)\n",
    "print('=== workloads are pushed into the backend engine ===\\n%f sec' % (time() - start))\n",
    "z1=y1.asnumpy()\n",
    "z2=y2.asnumpy()\n",
    "print('=== workloads are finished ===\\n%f sec' % (time() - start))"
   ]
  },
  {
   "cell_type": "code",
   "execution_count": 20,
   "metadata": {},
   "outputs": [],
   "source": [
    "def load_data(file_name, train, tune):\n",
    "    #loads the .mat file in file_name\n",
    "    #returns a dictionary data, containing test, train and tune\n",
    "    #the original data file is a dict with key 'X', containing the data\n",
    "    #training is X[:,0:train-1], tune is X[:,train:train+tune-1]\n",
    "    #test is the rest\n",
    "    data_dict = sio.loadmat(file_name)\n",
    "    data_matr = data_dict['X']\n",
    "    data_matr = np.array(data_matr)\n",
    "    (d,n) = data_matr.shape\n",
    "    if (n < train):\n",
    "        sys.exit(\"train >= number of points\")\n",
    "    data_train = data_matr[:,0:train]\n",
    "    if (train > 0):\n",
    "        data_train /= np.max(np.abs(data_train))\n",
    "    if (n < train+tune):\n",
    "        sys.exit(\"train+tune >= number of points\")\n",
    "    data_tune = data_matr[:,train:train+tune]\n",
    "    if (tune > 0):\n",
    "        data_tune /= np.max(np.abs(data_tune))\n",
    "    data_test = data_matr[:,train+tune:]\n",
    "    data_test /= np.max(np.abs(data_test))\n",
    "    data = {\"train\":data_train,\"tune\":data_tune,\"test\":data_test}\n",
    "    return data"
   ]
  },
  {
   "cell_type": "code",
   "execution_count": 13,
   "metadata": {},
   "outputs": [],
   "source": [
    "data = load_data('./data/xsmnist.mat', 8000, 1999)\n",
    "data['test'] = data['tune']"
   ]
  },
  {
   "cell_type": "code",
   "execution_count": 14,
   "metadata": {
    "collapsed": true
   },
   "outputs": [],
   "source": [
    "data_ctx = mx.cpu()\n",
    "model_ctx = mx.cpu()"
   ]
  },
  {
   "cell_type": "code",
   "execution_count": 10,
   "metadata": {},
   "outputs": [
    {
     "name": "stdout",
     "output_type": "stream",
     "text": [
      "1.30170732793\n"
     ]
    }
   ],
   "source": [
    "(d,n) = data['train'].shape\n",
    "k = 1\n",
    "u, s, vt = svds(np.dot(data['test'],data['test'].T)/(data['test'].shape)[1],k)\n",
    "obj_val = sum(s)\n",
    "print (obj_val)\n",
    "batch_size = 1;\n",
    "train_data = mx.gluon.data.DataLoader(data['train'].T, batch_size, shuffle=True)\n",
    "test_data = mx.gluon.data.DataLoader(data['test'].T, batch_size, shuffle=False)\n",
    "#train_data = mx.nd.array(data['train'])\n",
    "#test_data = mx.nd.array(data['test'])"
   ]
  },
  {
   "cell_type": "code",
   "execution_count": 44,
   "metadata": {},
   "outputs": [],
   "source": [
    "#def proj_matr(x_loading):\n",
    "#    return nd.dot(U,x_loading)\n",
    "\n",
    "def net(X, U_matr):\n",
    "    #data is row-wise anyway\n",
    "    return nd.dot(nd.dot(X,U_matr),U_matr.T)\n",
    "    #x_loading = nd.dot(U_matr.T, X)\n",
    "    #return proj_matr(x_loading)\n",
    "\n",
    "def eval_loss(yhat,y):\n",
    "    return -0.5*nd.dot(yhat,y)\n",
    "    #yhat = proj_matr(nd.dot(U.T,y))\n",
    "    #return -0.5*nd.dot(yhat.T,y)\n",
    "\n",
    "def SGD(U_matr, eta, do_qr = False):\n",
    "    U_matr[:] = U_matr - eta*U_matr.grad\n",
    "    if(do_qr):\n",
    "        Q,L = nd.linalg.gelqf(U_matr.T)\n",
    "        U_matr = Q.T\n",
    "        \n",
    "'''def evaluate_accuracy(data_iterator, net, U_matr, true_obj):\n",
    "    curr_obj = 0.0\n",
    "    Q,L = nd.linalg.gelqf(U_matr.T)\n",
    "    U_matr = Q.T\n",
    "    for i,data in enumerate(data_iterator):\n",
    "        data = data.as_in_context(model_ctx).astype(dtype='float32')\n",
    "        proj_data = net(data.T, U_matr)\n",
    "        curr_obj += nd.norm(nd.dot(U_matr.T,data.T))*nd.norm(nd.dot(U_matr.T,data.T))\n",
    "    return true_obj - curr_obj/(1.0*(i+1))'''\n",
    "\n",
    "def evaluate_accuracy(data, U_matr, true_obj):\n",
    "    Q,L = nd.linalg.gelqf(U_matr.T)\n",
    "    U_matr = Q.T\n",
    "    data = nd.array(data)\n",
    "    obj_sqrt = nd.norm(nd.dot(U_matr.T,data))\n",
    "    return true_obj - obj_sqrt*obj_sqrt/(data.shape)[1]\n",
    "\n",
    "def train(data, k, epochs, batch_size, learning_rate, te_accs, tr_accs):\n",
    "    (d,n) = data['train'].shape\n",
    "    U = nd.random_normal(shape = (d,k), ctx=model_ctx)\n",
    "    Q,L = nd.linalg.gelqf(U.T)\n",
    "    U = Q.T\n",
    "    U.attach_grad()\n",
    "    u, s, vt = svds(np.dot(data['test'],data['test'].T)/(data['test'].shape)[1],k)\n",
    "    obj_val = sum(s)\n",
    "    train_data = mx.gluon.data.DataLoader(data['train'].T, batch_size, shuffle=True)\n",
    "    test_data = mx.gluon.data.DataLoader(data['test'].T, batch_size, shuffle=True)\n",
    "    for e in range(epochs):\n",
    "        for i, data_t in enumerate(train_data):\n",
    "            data_t = data_t.as_in_context(model_ctx).astype(dtype='float32')\n",
    "            with autograd.record():\n",
    "                output = net(data_t, U)\n",
    "                loss = eval_loss(output,data_t.T)\n",
    "            loss.backward()\n",
    "            #compare = nd.dot(data_t.T,nd.dot(data_t,U))\n",
    "            if (i%200==0):\n",
    "                SGD(U, learning_rate/(i+1), True)\n",
    "                te_accs.append((evaluate_accuracy(data['test'], U, obj_val).asnumpy(), (e+1)*i+1))\n",
    "                tr_accs.append(evaluate_accuracy(data['train'], U, obj_val))\n",
    "            else:\n",
    "                SGD(U, learning_rate/(i+1))\n",
    "        test_accuracy = evaluate_accuracy(data['test'], U, obj_val)\n",
    "        train_accuracy = evaluate_accuracy(data['train'], U, obj_val)\n",
    "        print(\"Epoch %s. Train_err %s, Test_err %s\" % (e, train_accuracy, test_accuracy))\n",
    "    return U"
   ]
  },
  {
   "cell_type": "code",
   "execution_count": 45,
   "metadata": {},
   "outputs": [
    {
     "name": "stdout",
     "output_type": "stream",
     "text": [
      "Epoch 0. Train_err \n",
      "[ 0.0888617]\n",
      "<NDArray 1 @cpu(0)>, Test_err \n",
      "[ 0.08249426]\n",
      "<NDArray 1 @cpu(0)>\n",
      "Epoch 1. Train_err \n",
      "[ 0.06178164]\n",
      "<NDArray 1 @cpu(0)>, Test_err \n",
      "[ 0.06843424]\n",
      "<NDArray 1 @cpu(0)>\n",
      "Epoch 2. Train_err \n",
      "[ 0.04800689]\n",
      "<NDArray 1 @cpu(0)>, Test_err \n",
      "[ 0.05235827]\n",
      "<NDArray 1 @cpu(0)>\n",
      "Epoch 3. Train_err \n",
      "[ 0.0792948]\n",
      "<NDArray 1 @cpu(0)>, Test_err \n",
      "[ 0.05503416]\n",
      "<NDArray 1 @cpu(0)>\n",
      "Epoch 4. Train_err \n",
      "[ 0.05806327]\n",
      "<NDArray 1 @cpu(0)>, Test_err \n",
      "[ 0.03963017]\n",
      "<NDArray 1 @cpu(0)>\n",
      "Epoch 5. Train_err \n",
      "[ 0.06108546]\n",
      "<NDArray 1 @cpu(0)>, Test_err \n",
      "[ 0.04189622]\n",
      "<NDArray 1 @cpu(0)>\n",
      "Epoch 6. Train_err \n",
      "[ 0.09378231]\n",
      "<NDArray 1 @cpu(0)>, Test_err \n",
      "[ 0.08138764]\n",
      "<NDArray 1 @cpu(0)>\n",
      "Epoch 7. Train_err \n",
      "[ 0.16748881]\n",
      "<NDArray 1 @cpu(0)>, Test_err \n",
      "[ 0.16844916]\n",
      "<NDArray 1 @cpu(0)>\n",
      "Epoch 8. Train_err \n",
      "[ 0.06130207]\n",
      "<NDArray 1 @cpu(0)>, Test_err \n",
      "[ 0.05719125]\n",
      "<NDArray 1 @cpu(0)>\n",
      "Epoch 9. Train_err \n",
      "[ 0.07613838]\n",
      "<NDArray 1 @cpu(0)>, Test_err \n",
      "[ 0.0633688]\n",
      "<NDArray 1 @cpu(0)>\n"
     ]
    }
   ],
   "source": [
    "data = load_data('./data/xsmnist.mat', 8000, 0)\n",
    "epochs = 10\n",
    "batch_size = 10\n",
    "learning_rate = .05\n",
    "k = 1;\n",
    "te_accs = []\n",
    "tr_accs = []\n",
    "U = train(data, k, epochs, batch_size, learning_rate, te_accs, tr_accs)"
   ]
  },
  {
   "cell_type": "code",
   "execution_count": 50,
   "metadata": {},
   "outputs": [
    {
     "name": "stdout",
     "output_type": "stream",
     "text": [
      "[\n",
      "[[ 1.  1.  1.]\n",
      " [ 1.  1.  1.]]\n",
      "<NDArray 2x3 @cpu(0)>, \n",
      "[[ 1.  1.  1.]\n",
      " [ 1.  1.  1.]]\n",
      "<NDArray 2x3 @cpu(1)>]\n"
     ]
    },
    {
     "ename": "MXNetError",
     "evalue": "[02:08:14] src/postoffice.cc:16: Check  notnull: Environment::Get()->find(\"DMLC_NUM_WORKER\") \n\nStack trace returned 9 entries:\n[bt] (0) 0   libmxnet.so                         0x000000010f4091f8 _ZN4dmlc15LogMessageFatalD2Ev + 40\n[bt] (1) 1   libmxnet.so                         0x0000000110575241 _ZN2ps10PostofficeC2Ev + 1473\n[bt] (2) 2   libmxnet.so                         0x0000000110572f00 _ZN2ps8CustomerC2EiRKNSt3__18functionIFvRKNS_7MessageEEEE + 512\n[bt] (3) 3   libmxnet.so                         0x00000001102c7c2b _ZN2ps8KVWorkerIfEC2Ei + 603\n[bt] (4) 4   libmxnet.so                         0x000000011029c41b _ZN5mxnet7kvstore11KVStoreDistC2Eb + 379\n[bt] (5) 5   libmxnet.so                         0x000000011029c066 _ZN5mxnet7KVStore6CreateEPKc + 806\n[bt] (6) 6   libmxnet.so                         0x00000001101b88be MXKVStoreCreate + 14\n[bt] (7) 7   _ctypes.so                          0x000000010b7de7c7 ffi_call_unix64 + 79\n[bt] (8) 8   ???                                 0x00007ffee4e452f0 0x0 + 140732738589424\n",
     "output_type": "error",
     "traceback": [
      "\u001b[0;31m---------------------------------------------------------------------------\u001b[0m",
      "\u001b[0;31mMXNetError\u001b[0m                                Traceback (most recent call last)",
      "\u001b[0;32m<ipython-input-50-78690f23ef4a>\u001b[0m in \u001b[0;36m<module>\u001b[0;34m()\u001b[0m\n\u001b[1;32m      2\u001b[0m \u001b[0mb\u001b[0m \u001b[0;34m=\u001b[0m \u001b[0;34m[\u001b[0m\u001b[0mmx\u001b[0m\u001b[0;34m.\u001b[0m\u001b[0mnd\u001b[0m\u001b[0;34m.\u001b[0m\u001b[0mones\u001b[0m\u001b[0;34m(\u001b[0m\u001b[0;34m(\u001b[0m\u001b[0;36m2\u001b[0m\u001b[0;34m,\u001b[0m\u001b[0;36m3\u001b[0m\u001b[0;34m)\u001b[0m\u001b[0;34m,\u001b[0m\u001b[0mcpu\u001b[0m\u001b[0;34m)\u001b[0m \u001b[0;32mfor\u001b[0m \u001b[0mcpu\u001b[0m \u001b[0;32min\u001b[0m \u001b[0mcpus\u001b[0m\u001b[0;34m]\u001b[0m\u001b[0;34m\u001b[0m\u001b[0m\n\u001b[1;32m      3\u001b[0m \u001b[0;32mprint\u001b[0m \u001b[0mb\u001b[0m\u001b[0;34m\u001b[0m\u001b[0m\n\u001b[0;32m----> 4\u001b[0;31m \u001b[0mkv\u001b[0m \u001b[0;34m=\u001b[0m \u001b[0mmx\u001b[0m\u001b[0;34m.\u001b[0m\u001b[0mkv\u001b[0m\u001b[0;34m.\u001b[0m\u001b[0mcreate\u001b[0m\u001b[0;34m(\u001b[0m\u001b[0;34m'dist_async'\u001b[0m\u001b[0;34m)\u001b[0m\u001b[0;34m\u001b[0m\u001b[0m\n\u001b[0m\u001b[1;32m      5\u001b[0m \u001b[0mkv\u001b[0m\u001b[0;34m.\u001b[0m\u001b[0minit\u001b[0m\u001b[0;34m(\u001b[0m\u001b[0;36m3\u001b[0m\u001b[0;34m,\u001b[0m \u001b[0mmx\u001b[0m\u001b[0;34m.\u001b[0m\u001b[0mnd\u001b[0m\u001b[0;34m.\u001b[0m\u001b[0mones\u001b[0m\u001b[0;34m(\u001b[0m\u001b[0;34m(\u001b[0m\u001b[0;36m2\u001b[0m\u001b[0;34m,\u001b[0m\u001b[0;36m3\u001b[0m\u001b[0;34m)\u001b[0m\u001b[0;34m)\u001b[0m\u001b[0;34m*\u001b[0m\u001b[0;36m2\u001b[0m\u001b[0;34m)\u001b[0m\u001b[0;34m\u001b[0m\u001b[0m\n\u001b[1;32m      6\u001b[0m \u001b[0ma\u001b[0m \u001b[0;34m=\u001b[0m \u001b[0mmx\u001b[0m\u001b[0;34m.\u001b[0m\u001b[0mnd\u001b[0m\u001b[0;34m.\u001b[0m\u001b[0mzeros\u001b[0m\u001b[0;34m(\u001b[0m\u001b[0;34m(\u001b[0m\u001b[0;36m2\u001b[0m\u001b[0;34m,\u001b[0m\u001b[0;36m3\u001b[0m\u001b[0;34m)\u001b[0m\u001b[0;34m)\u001b[0m\u001b[0;34m\u001b[0m\u001b[0m\n",
      "\u001b[0;32m/usr/local/lib/python2.7/site-packages/mxnet/kvstore.pyc\u001b[0m in \u001b[0;36mcreate\u001b[0;34m(name)\u001b[0m\n\u001b[1;32m    567\u001b[0m     \u001b[0mhandle\u001b[0m \u001b[0;34m=\u001b[0m \u001b[0mKVStoreHandle\u001b[0m\u001b[0;34m(\u001b[0m\u001b[0;34m)\u001b[0m\u001b[0;34m\u001b[0m\u001b[0m\n\u001b[1;32m    568\u001b[0m     check_call(_LIB.MXKVStoreCreate(c_str(name),\n\u001b[0;32m--> 569\u001b[0;31m                                     ctypes.byref(handle)))\n\u001b[0m\u001b[1;32m    570\u001b[0m     \u001b[0;32mreturn\u001b[0m \u001b[0mKVStore\u001b[0m\u001b[0;34m(\u001b[0m\u001b[0mhandle\u001b[0m\u001b[0;34m)\u001b[0m\u001b[0;34m\u001b[0m\u001b[0m\n",
      "\u001b[0;32m/usr/local/lib/python2.7/site-packages/mxnet/base.pyc\u001b[0m in \u001b[0;36mcheck_call\u001b[0;34m(ret)\u001b[0m\n\u001b[1;32m    141\u001b[0m     \"\"\"\n\u001b[1;32m    142\u001b[0m     \u001b[0;32mif\u001b[0m \u001b[0mret\u001b[0m \u001b[0;34m!=\u001b[0m \u001b[0;36m0\u001b[0m\u001b[0;34m:\u001b[0m\u001b[0;34m\u001b[0m\u001b[0m\n\u001b[0;32m--> 143\u001b[0;31m         \u001b[0;32mraise\u001b[0m \u001b[0mMXNetError\u001b[0m\u001b[0;34m(\u001b[0m\u001b[0mpy_str\u001b[0m\u001b[0;34m(\u001b[0m\u001b[0m_LIB\u001b[0m\u001b[0;34m.\u001b[0m\u001b[0mMXGetLastError\u001b[0m\u001b[0;34m(\u001b[0m\u001b[0;34m)\u001b[0m\u001b[0;34m)\u001b[0m\u001b[0;34m)\u001b[0m\u001b[0;34m\u001b[0m\u001b[0m\n\u001b[0m\u001b[1;32m    144\u001b[0m \u001b[0;34m\u001b[0m\u001b[0m\n\u001b[1;32m    145\u001b[0m \u001b[0;32mif\u001b[0m \u001b[0msys\u001b[0m\u001b[0;34m.\u001b[0m\u001b[0mversion_info\u001b[0m\u001b[0;34m[\u001b[0m\u001b[0;36m0\u001b[0m\u001b[0;34m]\u001b[0m \u001b[0;34m<\u001b[0m \u001b[0;36m3\u001b[0m\u001b[0;34m:\u001b[0m\u001b[0;34m\u001b[0m\u001b[0m\n",
      "\u001b[0;31mMXNetError\u001b[0m: [02:08:14] src/postoffice.cc:16: Check  notnull: Environment::Get()->find(\"DMLC_NUM_WORKER\") \n\nStack trace returned 9 entries:\n[bt] (0) 0   libmxnet.so                         0x000000010f4091f8 _ZN4dmlc15LogMessageFatalD2Ev + 40\n[bt] (1) 1   libmxnet.so                         0x0000000110575241 _ZN2ps10PostofficeC2Ev + 1473\n[bt] (2) 2   libmxnet.so                         0x0000000110572f00 _ZN2ps8CustomerC2EiRKNSt3__18functionIFvRKNS_7MessageEEEE + 512\n[bt] (3) 3   libmxnet.so                         0x00000001102c7c2b _ZN2ps8KVWorkerIfEC2Ei + 603\n[bt] (4) 4   libmxnet.so                         0x000000011029c41b _ZN5mxnet7kvstore11KVStoreDistC2Eb + 379\n[bt] (5) 5   libmxnet.so                         0x000000011029c066 _ZN5mxnet7KVStore6CreateEPKc + 806\n[bt] (6) 6   libmxnet.so                         0x00000001101b88be MXKVStoreCreate + 14\n[bt] (7) 7   _ctypes.so                          0x000000010b7de7c7 ffi_call_unix64 + 79\n[bt] (8) 8   ???                                 0x00007ffee4e452f0 0x0 + 140732738589424\n"
     ]
    }
   ],
   "source": [
    "cpus = [mx.cpu(0),mx.cpu(1)]\n",
    "b = [mx.nd.ones((2,3),cpu) for cpu in cpus]\n",
    "print b\n",
    "kv = mx.kv.create('dist_async')\n",
    "kv.init(3, mx.nd.ones((2,3))*2)\n",
    "a = mx.nd.zeros((2,3))\n",
    "kv.push(3,b)\n",
    "kv.pull(3, out = a)\n",
    "print a.asnumpy"
   ]
  },
  {
   "cell_type": "code",
   "execution_count": null,
   "metadata": {
    "collapsed": true
   },
   "outputs": [],
   "source": []
  }
 ],
 "metadata": {
  "kernelspec": {
   "display_name": "Python 2",
   "language": "python",
   "name": "python2"
  },
  "language_info": {
   "codemirror_mode": {
    "name": "ipython",
    "version": 2
   },
   "file_extension": ".py",
   "mimetype": "text/x-python",
   "name": "python",
   "nbconvert_exporter": "python",
   "pygments_lexer": "ipython2",
   "version": "2.7.12"
  }
 },
 "nbformat": 4,
 "nbformat_minor": 2
}
