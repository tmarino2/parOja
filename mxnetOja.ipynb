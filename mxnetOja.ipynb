{
 "cells": [
  {
   "cell_type": "code",
   "execution_count": 25,
   "metadata": {
    "collapsed": false
   },
   "outputs": [],
   "source": [
    "import scipy.io as sio\n",
    "import warnings\n",
    "import numpy as np\n",
    "warnings.filterwarnings('ignore')\n",
    "import mxnet as mx\n",
    "from mxnet import nd\n",
    "mx.random.seed(1)"
   ]
  },
  {
   "cell_type": "code",
   "execution_count": 52,
   "metadata": {
    "collapsed": false
   },
   "outputs": [],
   "source": [
    "def load_data(file_name, train, tune):\n",
    "    #loads the .mat file in file_name\n",
    "    #returns a dictionary data, containing test, train and tune\n",
    "    #the original data file is a dict with key 'X', containing the data\n",
    "    #training is X[:,0:train-1], tune is X[:,train:train+tune-1]\n",
    "    #test is the rest\n",
    "    data_dict = sio.loadmat(file_name)\n",
    "    data_matr = data_dict['X']\n",
    "    data_matr = np.array(data_matr)\n",
    "    (d,n) = data_matr.shape\n",
    "    if (n <= train):\n",
    "        sys.exit(\"train >= number of points\")\n",
    "    data_train = data_matr[:,0:train]\n",
    "    data_train /= np.max(np.abs(data_train))\n",
    "    if (n <= train+tune):\n",
    "        sys.exit(\"train+tune >= number of points\")\n",
    "    data_tune = data_matr[:,train:train+tune]\n",
    "    data_tune /= np.max(np.abs(data_tune))\n",
    "    data_test = data_matr[:,train+tune:]\n",
    "    data_test /= np.max(np.abs(data_test))\n",
    "    data = {\"train\":data_train,\"tune\":data_tune,\"test\":data_test}\n",
    "    return data"
   ]
  },
  {
   "cell_type": "code",
   "execution_count": 53,
   "metadata": {
    "collapsed": true
   },
   "outputs": [],
   "source": [
    "data = load_data('./data/xsmnist.mat', 6000, 2000)"
   ]
  },
  {
   "cell_type": "code",
   "execution_count": 55,
   "metadata": {
    "collapsed": false
   },
   "outputs": [
    {
     "data": {
      "text/plain": [
       "-0.5543148060031543"
      ]
     },
     "execution_count": 55,
     "metadata": {},
     "output_type": "execute_result"
    }
   ],
   "source": [
    "data.keys()\n",
    "data['test'].shape\n",
    "np.min(data['test'])"
   ]
  },
  {
   "cell_type": "code",
   "execution_count": null,
   "metadata": {
    "collapsed": true
   },
   "outputs": [],
   "source": []
  }
 ],
 "metadata": {
  "kernelspec": {
   "display_name": "Python 2",
   "language": "python",
   "name": "python2"
  },
  "language_info": {
   "codemirror_mode": {
    "name": "ipython",
    "version": 2
   },
   "file_extension": ".py",
   "mimetype": "text/x-python",
   "name": "python",
   "nbconvert_exporter": "python",
   "pygments_lexer": "ipython2",
   "version": "2.7.10"
  }
 },
 "nbformat": 4,
 "nbformat_minor": 2
}
