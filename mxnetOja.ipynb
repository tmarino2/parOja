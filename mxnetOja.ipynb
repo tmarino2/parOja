{
 "cells": [
  {
   "cell_type": "code",
   "execution_count": 3,
   "metadata": {
    "collapsed": false,
    "deletable": true,
    "editable": true
   },
   "outputs": [],
   "source": [
    "#%env MXNET_CPU_WORKER_NTHREADS=4\n",
    "%env OMP_NUM_THREADS=1\n",
    "import scipy.io as sio\n",
    "from scipy.sparse.linalg import svds, eigs\n",
    "import warnings\n",
    "import numpy as np\n",
    "import matplotlib.pyplot as plt\n",
    "warnings.filterwarnings('ignore')\n",
    "import mxnet as mx\n",
    "from mxnet import nd, autograd, gluon\n",
    "from time import time\n",
    "mx.random.seed(1)"
   ]
  },
  {
   "cell_type": "code",
   "execution_count": 4,
   "metadata": {
    "collapsed": false,
    "deletable": true,
    "editable": true
   },
   "outputs": [
    {
     "name": "stdout",
     "output_type": "stream",
     "text": [
      "0.275640964508\n"
     ]
    }
   ],
   "source": [
    "x1 = np.random.rand(2000,2000)\n",
    "x2 = np.random.rand(2000,2000)\n",
    "start = time()\n",
    "z = np.dot(x1,x2)\n",
    "print(time() - start)"
   ]
  },
  {
   "cell_type": "code",
   "execution_count": 5,
   "metadata": {
    "collapsed": false,
    "deletable": true,
    "editable": true
   },
   "outputs": [
    {
     "name": "stdout",
     "output_type": "stream",
     "text": [
      "=== workloads are pushed into the backend engine ===\n",
      "0.005735 sec\n",
      "=== workloads are finished ===\n",
      "0.399582 sec\n"
     ]
    }
   ],
   "source": [
    "start = time()\n",
    "ctxts = [mx.cpu(0),mx.cpu(1)]\n",
    "x1 = nd.random_uniform(shape=(2000,2000), ctx=ctxts[0])\n",
    "x2 = nd.random_uniform(shape=(2000,2000), ctx=ctxts[1])\n",
    "y1 = nd.dot(x1, x1)\n",
    "y2 = nd.dot(x2, x2)\n",
    "print('=== workloads are pushed into the backend engine ===\\n%f sec' % (time() - start))\n",
    "z1=y1.asnumpy()\n",
    "z2=y2.asnumpy()\n",
    "print('=== workloads are finished ===\\n%f sec' % (time() - start))"
   ]
  },
  {
   "cell_type": "code",
   "execution_count": 6,
   "metadata": {
    "collapsed": false,
    "deletable": true,
    "editable": true
   },
   "outputs": [],
   "source": [
    "def load_data(file_name, train, tune):\n",
    "    #loads the .mat file in file_name\n",
    "    #returns a dictionary data, containing test, train and tune\n",
    "    #the original data file is a dict with key 'X', containing the data\n",
    "    #training is X[:,0:train-1], tune is X[:,train:train+tune-1]\n",
    "    #test is the rest\n",
    "    data_dict = sio.loadmat(file_name)\n",
    "    data_matr = data_dict['X']\n",
    "    data_matr = np.array(data_matr)\n",
    "    (d,n) = data_matr.shape\n",
    "    if (n < train):\n",
    "        sys.exit(\"train > number of points\")\n",
    "    data_train = data_matr[:,0:train]\n",
    "    if (train > 0):\n",
    "        data_train /= np.max(np.abs(data_train))\n",
    "    if (n < train+tune):\n",
    "        sys.exit(\"train+tune > number of points\")\n",
    "    data_tune = data_matr[:,train:train+tune]\n",
    "    if (tune > 0):\n",
    "        data_tune /= np.max(np.abs(data_tune))\n",
    "    data_test = data_matr[:,train+tune:]\n",
    "    data_test /= np.max(np.abs(data_test))\n",
    "    data = {\"train\":data_train,\"tune\":data_tune,\"test\":data_test}\n",
    "    return data\n",
    "\n",
    "def create_syn(n, d, decay_param, train, tune):\n",
    "    #create a dxn dataset sampled from a normal with exponential decay in covariance\n",
    "    decay = np.array([decay_param**(-1) for i in xrange(d)])\n",
    "    X = np.random.normal(0, 1, (n,d))\n",
    "    X = np.multiply(decay,X).T\n",
    "    if (n < train):\n",
    "        sys.exit(\"train > number of points\")\n",
    "    data_train = X[:,0:train]\n",
    "    if (n < train+tune):\n",
    "        sys.exit(\"train+tune > number of points\")\n",
    "    data_tune = X[:,train:train+tune]\n",
    "    data_test = X[:,train+tune:]\n",
    "    return {\"train\":data_train, \"tune\":data_tune, \"test\":data_test}"
   ]
  },
  {
   "cell_type": "code",
   "execution_count": 7,
   "metadata": {
    "collapsed": false,
    "deletable": true,
    "editable": true
   },
   "outputs": [],
   "source": [
    "data = load_data('./data/xsmnist.mat', 8000, 1999)\n",
    "data['test'] = data['tune']"
   ]
  },
  {
   "cell_type": "code",
   "execution_count": 8,
   "metadata": {
    "collapsed": true,
    "deletable": true,
    "editable": true
   },
   "outputs": [],
   "source": [
    "data_ctx = mx.cpu()\n",
    "model_ctx = mx.cpu()"
   ]
  },
  {
   "cell_type": "code",
   "execution_count": 9,
   "metadata": {
    "collapsed": false,
    "deletable": true,
    "editable": true
   },
   "outputs": [
    {
     "name": "stdout",
     "output_type": "stream",
     "text": [
      "1.30170732793\n"
     ]
    }
   ],
   "source": [
    "(d,n) = data['train'].shape\n",
    "k = 1\n",
    "u, s, vt = svds(np.dot(data['test'],data['test'].T)/(data['test'].shape)[1],k)\n",
    "obj_val = sum(s)\n",
    "print (obj_val)\n",
    "batch_size = 1;\n",
    "train_data = mx.gluon.data.DataLoader(data['train'].T, batch_size, shuffle=True)\n",
    "test_data = mx.gluon.data.DataLoader(data['test'].T, batch_size, shuffle=False)\n",
    "#train_data = mx.nd.array(data['train'])\n",
    "#test_data = mx.nd.array(data['test'])"
   ]
  },
  {
   "cell_type": "code",
   "execution_count": 12,
   "metadata": {
    "collapsed": false,
    "deletable": true,
    "editable": true
   },
   "outputs": [],
   "source": [
    "#def proj_matr(x_loading):\n",
    "#    return nd.dot(U,x_loading)\n",
    "\n",
    "def net(X, U_matr):\n",
    "    #data is row-wise anyway\n",
    "    return nd.dot(nd.dot(X,U_matr),U_matr.T)\n",
    "    #x_loading = nd.dot(U_matr.T, X)\n",
    "    #return proj_matr(x_loading)\n",
    "\n",
    "def eval_loss(yhat,y):\n",
    "    return -0.5*nd.dot(yhat,y)\n",
    "    #yhat = proj_matr(nd.dot(U.T,y))\n",
    "    #return -0.5*nd.dot(yhat.T,y)\n",
    "\n",
    "def SGD(U_matr, eta, do_qr = False):\n",
    "    U_matr[:] = U_matr - eta*U_matr.grad\n",
    "    if(do_qr):\n",
    "        Q,L = nd.linalg.gelqf(U_matr.T)\n",
    "        U_matr = Q.T\n",
    "        \n",
    "'''def evaluate_accuracy(data_iterator, net, U_matr, true_obj):\n",
    "    curr_obj = 0.0\n",
    "    Q,L = nd.linalg.gelqf(U_matr.T)\n",
    "    U_matr = Q.T\n",
    "    for i,data in enumerate(data_iterator):\n",
    "        data = data.as_in_context(model_ctx).astype(dtype='float32')\n",
    "        proj_data = net(data.T, U_matr)\n",
    "        curr_obj += nd.norm(nd.dot(U_matr.T,data.T))*nd.norm(nd.dot(U_matr.T,data.T))\n",
    "    return true_obj - curr_obj/(1.0*(i+1))'''\n",
    "\n",
    "def evaluate_accuracy(data, U_matr, true_obj):\n",
    "    Q,L = nd.linalg.gelqf(U_matr.T)\n",
    "    U_matr = Q.T\n",
    "    data = nd.array(data)\n",
    "    obj_sqrt = nd.norm(nd.dot(U_matr.T,data))\n",
    "    return true_obj - obj_sqrt*obj_sqrt/(data.shape)[1]\n",
    "\n",
    "def train(data, k, epochs, batch_size, learning_rate, te_accs, tr_accs):\n",
    "    (d,n) = data['train'].shape\n",
    "    U = nd.random_normal(shape = (d,k), ctx=model_ctx)\n",
    "    Q,L = nd.linalg.gelqf(U.T)\n",
    "    U = Q.T\n",
    "    U.attach_grad()\n",
    "    u, s, vt = svds(np.dot(data['test'],data['test'].T)/(data['test'].shape)[1],k)\n",
    "    obj_val = sum(s)\n",
    "    train_data = mx.gluon.data.DataLoader(data['train'].T, batch_size, shuffle=True)\n",
    "    test_data = mx.gluon.data.DataLoader(data['test'].T, batch_size, shuffle=True)\n",
    "    start = time()\n",
    "    for e in range(epochs):\n",
    "        for i, data_t in enumerate(train_data):\n",
    "            data_t = data_t.as_in_context(model_ctx).astype(dtype='float32')\n",
    "            with autograd.record():\n",
    "                output = net(data_t, U)\n",
    "                loss = eval_loss(output,data_t.T)\n",
    "            loss.backward()\n",
    "            #compare = nd.dot(data_t.T,nd.dot(data_t,U))\n",
    "            if (i%200==0):\n",
    "                SGD(U, learning_rate/(i+1), True)\n",
    "                te_accs.append((evaluate_accuracy(data['test'], U, obj_val).asnumpy()[0], time() - start))\n",
    "                tr_accs.append((evaluate_accuracy(data['train'], U, obj_val).asnumpy()[0], time() - start))\n",
    "            else:\n",
    "                SGD(U, learning_rate/(i+1))\n",
    "        test_accuracy = evaluate_accuracy(data['test'], U, obj_val)\n",
    "        train_accuracy = evaluate_accuracy(data['train'], U, obj_val)\n",
    "        print(\"Epoch %s. Train_err %s, Test_err %s\" % (e, train_accuracy, test_accuracy))\n",
    "    return U\n"
   ]
  },
  {
   "cell_type": "code",
   "execution_count": 13,
   "metadata": {
    "collapsed": false,
    "deletable": true,
    "editable": true
   },
   "outputs": [
    {
     "name": "stdout",
     "output_type": "stream",
     "text": [
      "(50000, 2000)\n"
     ]
    },
    {
     "ename": "KeyboardInterrupt",
     "evalue": "",
     "output_type": "error",
     "traceback": [
      "\u001b[0;31m---------------------------------------------------------------------------\u001b[0m",
      "\u001b[0;31mKeyboardInterrupt\u001b[0m                         Traceback (most recent call last)",
      "\u001b[0;32m<ipython-input-13-bed6cee43f02>\u001b[0m in \u001b[0;36m<module>\u001b[0;34m()\u001b[0m\n\u001b[1;32m      8\u001b[0m \u001b[0mte_accs\u001b[0m \u001b[0;34m=\u001b[0m \u001b[0;34m[\u001b[0m\u001b[0;34m]\u001b[0m\u001b[0;34m\u001b[0m\u001b[0m\n\u001b[1;32m      9\u001b[0m \u001b[0mtr_accs\u001b[0m \u001b[0;34m=\u001b[0m \u001b[0;34m[\u001b[0m\u001b[0;34m]\u001b[0m\u001b[0;34m\u001b[0m\u001b[0m\n\u001b[0;32m---> 10\u001b[0;31m \u001b[0mU\u001b[0m \u001b[0;34m=\u001b[0m \u001b[0mtrain\u001b[0m\u001b[0;34m(\u001b[0m\u001b[0mdata\u001b[0m\u001b[0;34m,\u001b[0m \u001b[0mk\u001b[0m\u001b[0;34m,\u001b[0m \u001b[0mepochs\u001b[0m\u001b[0;34m,\u001b[0m \u001b[0mbatch_size\u001b[0m\u001b[0;34m,\u001b[0m \u001b[0mlearning_rate\u001b[0m\u001b[0;34m,\u001b[0m \u001b[0mte_accs\u001b[0m\u001b[0;34m,\u001b[0m \u001b[0mtr_accs\u001b[0m\u001b[0;34m)\u001b[0m\u001b[0;34m\u001b[0m\u001b[0m\n\u001b[0m",
      "\u001b[0;32m<ipython-input-12-045fe1668318>\u001b[0m in \u001b[0;36mtrain\u001b[0;34m(data, k, epochs, batch_size, learning_rate, te_accs, tr_accs)\u001b[0m\n\u001b[1;32m     42\u001b[0m     \u001b[0mU\u001b[0m \u001b[0;34m=\u001b[0m \u001b[0mQ\u001b[0m\u001b[0;34m.\u001b[0m\u001b[0mT\u001b[0m\u001b[0;34m\u001b[0m\u001b[0m\n\u001b[1;32m     43\u001b[0m     \u001b[0mU\u001b[0m\u001b[0;34m.\u001b[0m\u001b[0mattach_grad\u001b[0m\u001b[0;34m(\u001b[0m\u001b[0;34m)\u001b[0m\u001b[0;34m\u001b[0m\u001b[0m\n\u001b[0;32m---> 44\u001b[0;31m     \u001b[0mu\u001b[0m\u001b[0;34m,\u001b[0m \u001b[0ms\u001b[0m\u001b[0;34m,\u001b[0m \u001b[0mvt\u001b[0m \u001b[0;34m=\u001b[0m \u001b[0msvds\u001b[0m\u001b[0;34m(\u001b[0m\u001b[0mnp\u001b[0m\u001b[0;34m.\u001b[0m\u001b[0mdot\u001b[0m\u001b[0;34m(\u001b[0m\u001b[0mdata\u001b[0m\u001b[0;34m[\u001b[0m\u001b[0;34m'test'\u001b[0m\u001b[0;34m]\u001b[0m\u001b[0;34m,\u001b[0m\u001b[0mdata\u001b[0m\u001b[0;34m[\u001b[0m\u001b[0;34m'test'\u001b[0m\u001b[0;34m]\u001b[0m\u001b[0;34m.\u001b[0m\u001b[0mT\u001b[0m\u001b[0;34m)\u001b[0m\u001b[0;34m/\u001b[0m\u001b[0;34m(\u001b[0m\u001b[0mdata\u001b[0m\u001b[0;34m[\u001b[0m\u001b[0;34m'test'\u001b[0m\u001b[0;34m]\u001b[0m\u001b[0;34m.\u001b[0m\u001b[0mshape\u001b[0m\u001b[0;34m)\u001b[0m\u001b[0;34m[\u001b[0m\u001b[0;36m1\u001b[0m\u001b[0;34m]\u001b[0m\u001b[0;34m,\u001b[0m\u001b[0mk\u001b[0m\u001b[0;34m)\u001b[0m\u001b[0;34m\u001b[0m\u001b[0m\n\u001b[0m\u001b[1;32m     45\u001b[0m     \u001b[0mobj_val\u001b[0m \u001b[0;34m=\u001b[0m \u001b[0msum\u001b[0m\u001b[0;34m(\u001b[0m\u001b[0ms\u001b[0m\u001b[0;34m)\u001b[0m\u001b[0;34m\u001b[0m\u001b[0m\n\u001b[1;32m     46\u001b[0m     \u001b[0mtrain_data\u001b[0m \u001b[0;34m=\u001b[0m \u001b[0mmx\u001b[0m\u001b[0;34m.\u001b[0m\u001b[0mgluon\u001b[0m\u001b[0;34m.\u001b[0m\u001b[0mdata\u001b[0m\u001b[0;34m.\u001b[0m\u001b[0mDataLoader\u001b[0m\u001b[0;34m(\u001b[0m\u001b[0mdata\u001b[0m\u001b[0;34m[\u001b[0m\u001b[0;34m'train'\u001b[0m\u001b[0;34m]\u001b[0m\u001b[0;34m.\u001b[0m\u001b[0mT\u001b[0m\u001b[0;34m,\u001b[0m \u001b[0mbatch_size\u001b[0m\u001b[0;34m,\u001b[0m \u001b[0mshuffle\u001b[0m\u001b[0;34m=\u001b[0m\u001b[0mTrue\u001b[0m\u001b[0;34m)\u001b[0m\u001b[0;34m\u001b[0m\u001b[0m\n",
      "\u001b[0;32m/usr/local/lib/python2.7/site-packages/scipy/sparse/linalg/eigen/arpack/arpack.pyc\u001b[0m in \u001b[0;36msvds\u001b[0;34m(A, k, ncv, tol, which, v0, maxiter, return_singular_vectors)\u001b[0m\n\u001b[1;32m   1752\u001b[0m     \u001b[0;31m# This is not a stable way to approach the problem.\u001b[0m\u001b[0;34m\u001b[0m\u001b[0;34m\u001b[0m\u001b[0m\n\u001b[1;32m   1753\u001b[0m     eigvals, eigvec = eigsh(XH_X, k=k, tol=tol ** 2, maxiter=maxiter,\n\u001b[0;32m-> 1754\u001b[0;31m                                   ncv=ncv, which=which, v0=v0)\n\u001b[0m\u001b[1;32m   1755\u001b[0m \u001b[0;34m\u001b[0m\u001b[0m\n\u001b[1;32m   1756\u001b[0m     \u001b[0;31m# In 'LM' mode try to be clever about small eigenvalues.\u001b[0m\u001b[0;34m\u001b[0m\u001b[0;34m\u001b[0m\u001b[0m\n",
      "\u001b[0;32m/usr/local/lib/python2.7/site-packages/scipy/sparse/linalg/eigen/arpack/arpack.pyc\u001b[0m in \u001b[0;36meigsh\u001b[0;34m(A, k, M, sigma, which, v0, ncv, maxiter, tol, return_eigenvectors, Minv, OPinv, mode)\u001b[0m\n\u001b[1;32m   1603\u001b[0m     \u001b[0;32mwith\u001b[0m \u001b[0m_ARPACK_LOCK\u001b[0m\u001b[0;34m:\u001b[0m\u001b[0;34m\u001b[0m\u001b[0m\n\u001b[1;32m   1604\u001b[0m         \u001b[0;32mwhile\u001b[0m \u001b[0;32mnot\u001b[0m \u001b[0mparams\u001b[0m\u001b[0;34m.\u001b[0m\u001b[0mconverged\u001b[0m\u001b[0;34m:\u001b[0m\u001b[0;34m\u001b[0m\u001b[0m\n\u001b[0;32m-> 1605\u001b[0;31m             \u001b[0mparams\u001b[0m\u001b[0;34m.\u001b[0m\u001b[0miterate\u001b[0m\u001b[0;34m(\u001b[0m\u001b[0;34m)\u001b[0m\u001b[0;34m\u001b[0m\u001b[0m\n\u001b[0m\u001b[1;32m   1606\u001b[0m \u001b[0;34m\u001b[0m\u001b[0m\n\u001b[1;32m   1607\u001b[0m         \u001b[0;32mreturn\u001b[0m \u001b[0mparams\u001b[0m\u001b[0;34m.\u001b[0m\u001b[0mextract\u001b[0m\u001b[0;34m(\u001b[0m\u001b[0mreturn_eigenvectors\u001b[0m\u001b[0;34m)\u001b[0m\u001b[0;34m\u001b[0m\u001b[0m\n",
      "\u001b[0;32m/usr/local/lib/python2.7/site-packages/scipy/sparse/linalg/eigen/arpack/arpack.pyc\u001b[0m in \u001b[0;36miterate\u001b[0;34m(self)\u001b[0m\n\u001b[1;32m    545\u001b[0m             \u001b[0;31m# compute y = Op*x\u001b[0m\u001b[0;34m\u001b[0m\u001b[0;34m\u001b[0m\u001b[0m\n\u001b[1;32m    546\u001b[0m             \u001b[0;32mif\u001b[0m \u001b[0mself\u001b[0m\u001b[0;34m.\u001b[0m\u001b[0mmode\u001b[0m \u001b[0;34m==\u001b[0m \u001b[0;36m1\u001b[0m\u001b[0;34m:\u001b[0m\u001b[0;34m\u001b[0m\u001b[0m\n\u001b[0;32m--> 547\u001b[0;31m                 \u001b[0mself\u001b[0m\u001b[0;34m.\u001b[0m\u001b[0mworkd\u001b[0m\u001b[0;34m[\u001b[0m\u001b[0myslice\u001b[0m\u001b[0;34m]\u001b[0m \u001b[0;34m=\u001b[0m \u001b[0mself\u001b[0m\u001b[0;34m.\u001b[0m\u001b[0mOP\u001b[0m\u001b[0;34m(\u001b[0m\u001b[0mself\u001b[0m\u001b[0;34m.\u001b[0m\u001b[0mworkd\u001b[0m\u001b[0;34m[\u001b[0m\u001b[0mxslice\u001b[0m\u001b[0;34m]\u001b[0m\u001b[0;34m)\u001b[0m\u001b[0;34m\u001b[0m\u001b[0m\n\u001b[0m\u001b[1;32m    548\u001b[0m             \u001b[0;32melif\u001b[0m \u001b[0mself\u001b[0m\u001b[0;34m.\u001b[0m\u001b[0mmode\u001b[0m \u001b[0;34m==\u001b[0m \u001b[0;36m2\u001b[0m\u001b[0;34m:\u001b[0m\u001b[0;34m\u001b[0m\u001b[0m\n\u001b[1;32m    549\u001b[0m                 \u001b[0mself\u001b[0m\u001b[0;34m.\u001b[0m\u001b[0mworkd\u001b[0m\u001b[0;34m[\u001b[0m\u001b[0mxslice\u001b[0m\u001b[0;34m]\u001b[0m \u001b[0;34m=\u001b[0m \u001b[0mself\u001b[0m\u001b[0;34m.\u001b[0m\u001b[0mOPb\u001b[0m\u001b[0;34m(\u001b[0m\u001b[0mself\u001b[0m\u001b[0;34m.\u001b[0m\u001b[0mworkd\u001b[0m\u001b[0;34m[\u001b[0m\u001b[0mxslice\u001b[0m\u001b[0;34m]\u001b[0m\u001b[0;34m)\u001b[0m\u001b[0;34m\u001b[0m\u001b[0m\n",
      "\u001b[0;32m/usr/local/lib/python2.7/site-packages/scipy/sparse/linalg/interface.pyc\u001b[0m in \u001b[0;36mmatvec\u001b[0;34m(self, x)\u001b[0m\n\u001b[1;32m    217\u001b[0m             \u001b[0;32mraise\u001b[0m \u001b[0mValueError\u001b[0m\u001b[0;34m(\u001b[0m\u001b[0;34m'dimension mismatch'\u001b[0m\u001b[0;34m)\u001b[0m\u001b[0;34m\u001b[0m\u001b[0m\n\u001b[1;32m    218\u001b[0m \u001b[0;34m\u001b[0m\u001b[0m\n\u001b[0;32m--> 219\u001b[0;31m         \u001b[0my\u001b[0m \u001b[0;34m=\u001b[0m \u001b[0mself\u001b[0m\u001b[0;34m.\u001b[0m\u001b[0m_matvec\u001b[0m\u001b[0;34m(\u001b[0m\u001b[0mx\u001b[0m\u001b[0;34m)\u001b[0m\u001b[0;34m\u001b[0m\u001b[0m\n\u001b[0m\u001b[1;32m    220\u001b[0m \u001b[0;34m\u001b[0m\u001b[0m\n\u001b[1;32m    221\u001b[0m         \u001b[0;32mif\u001b[0m \u001b[0misinstance\u001b[0m\u001b[0;34m(\u001b[0m\u001b[0mx\u001b[0m\u001b[0;34m,\u001b[0m \u001b[0mnp\u001b[0m\u001b[0;34m.\u001b[0m\u001b[0mmatrix\u001b[0m\u001b[0;34m)\u001b[0m\u001b[0;34m:\u001b[0m\u001b[0;34m\u001b[0m\u001b[0m\n",
      "\u001b[0;32m/usr/local/lib/python2.7/site-packages/scipy/sparse/linalg/interface.pyc\u001b[0m in \u001b[0;36m_matvec\u001b[0;34m(self, x)\u001b[0m\n\u001b[1;32m    469\u001b[0m \u001b[0;34m\u001b[0m\u001b[0m\n\u001b[1;32m    470\u001b[0m     \u001b[0;32mdef\u001b[0m \u001b[0m_matvec\u001b[0m\u001b[0;34m(\u001b[0m\u001b[0mself\u001b[0m\u001b[0;34m,\u001b[0m \u001b[0mx\u001b[0m\u001b[0;34m)\u001b[0m\u001b[0;34m:\u001b[0m\u001b[0;34m\u001b[0m\u001b[0m\n\u001b[0;32m--> 471\u001b[0;31m         \u001b[0;32mreturn\u001b[0m \u001b[0mself\u001b[0m\u001b[0;34m.\u001b[0m\u001b[0m__matvec_impl\u001b[0m\u001b[0;34m(\u001b[0m\u001b[0mx\u001b[0m\u001b[0;34m)\u001b[0m\u001b[0;34m\u001b[0m\u001b[0m\n\u001b[0m\u001b[1;32m    472\u001b[0m \u001b[0;34m\u001b[0m\u001b[0m\n\u001b[1;32m    473\u001b[0m     \u001b[0;32mdef\u001b[0m \u001b[0m_rmatvec\u001b[0m\u001b[0;34m(\u001b[0m\u001b[0mself\u001b[0m\u001b[0;34m,\u001b[0m \u001b[0mx\u001b[0m\u001b[0;34m)\u001b[0m\u001b[0;34m:\u001b[0m\u001b[0;34m\u001b[0m\u001b[0m\n",
      "\u001b[0;32m/usr/local/lib/python2.7/site-packages/scipy/sparse/linalg/eigen/arpack/arpack.pyc\u001b[0m in \u001b[0;36mmatvec_XH_X\u001b[0;34m(x)\u001b[0m\n\u001b[1;32m   1744\u001b[0m \u001b[0;34m\u001b[0m\u001b[0m\n\u001b[1;32m   1745\u001b[0m     \u001b[0;32mdef\u001b[0m \u001b[0mmatvec_XH_X\u001b[0m\u001b[0;34m(\u001b[0m\u001b[0mx\u001b[0m\u001b[0;34m)\u001b[0m\u001b[0;34m:\u001b[0m\u001b[0;34m\u001b[0m\u001b[0m\n\u001b[0;32m-> 1746\u001b[0;31m         \u001b[0;32mreturn\u001b[0m \u001b[0mXH_dot\u001b[0m\u001b[0;34m(\u001b[0m\u001b[0mX_dot\u001b[0m\u001b[0;34m(\u001b[0m\u001b[0mx\u001b[0m\u001b[0;34m)\u001b[0m\u001b[0;34m)\u001b[0m\u001b[0;34m\u001b[0m\u001b[0m\n\u001b[0m\u001b[1;32m   1747\u001b[0m \u001b[0;34m\u001b[0m\u001b[0m\n\u001b[1;32m   1748\u001b[0m     XH_X = LinearOperator(matvec=matvec_XH_X, dtype=A.dtype,\n",
      "\u001b[0;31mKeyboardInterrupt\u001b[0m: "
     ]
    }
   ],
   "source": [
    "#data = load_data('./data/xsmnist.mat', 8000, 0)\n",
    "data = create_syn(50000, 2000, 1.1, 40000, 5000)\n",
    "print(data['train'].shape)\n",
    "epochs = 3\n",
    "batch_size = 5\n",
    "learning_rate = .05\n",
    "k = 1;\n",
    "te_accs = []\n",
    "tr_accs = []\n",
    "U = train(data, k, epochs, batch_size, learning_rate, te_accs, tr_accs)"
   ]
  },
  {
   "cell_type": "code",
   "execution_count": 50,
   "metadata": {
    "collapsed": false
   },
   "outputs": [
    {
     "data": {
      "image/png": "[encoded data removed]",
      "text/plain": [
       "<matplotlib.figure.Figure at 0x11f0959d0>"
      ]
     },
     "metadata": {},
     "output_type": "display_data"
    }
   ],
   "source": [
    "y_test = list(zip(*te_accs)[0])\n",
    "x_test = list(zip(*te_accs)[1])\n",
    "plt.plot(x_test,y_test, \"-g^\", label=\"test error\")\n",
    "y_train = list(zip(*tr_accs)[0])\n",
    "x_train = list(zip(*tr_accs)[1])\n",
    "plt.plot(x_train,y_train, \"--ro\", label=\"train error\")\n",
    "plt.show()"
   ]
  },
  {
   "cell_type": "code",
   "execution_count": 50,
   "metadata": {
    "collapsed": false,
    "deletable": true,
    "editable": true
   },
   "outputs": [
    {
     "name": "stdout",
     "output_type": "stream",
     "text": [
      "[\n",
      "[[ 1.  1.  1.]\n",
      " [ 1.  1.  1.]]\n",
      "<NDArray 2x3 @cpu(0)>, \n",
      "[[ 1.  1.  1.]\n",
      " [ 1.  1.  1.]]\n",
      "<NDArray 2x3 @cpu(1)>]\n"
     ]
    },
    {
     "ename": "MXNetError",
     "evalue": "[02:08:14] src/postoffice.cc:16: Check  notnull: Environment::Get()->find(\"DMLC_NUM_WORKER\") \n\nStack trace returned 9 entries:\n[bt] (0) 0   libmxnet.so                         0x000000010f4091f8 _ZN4dmlc15LogMessageFatalD2Ev + 40\n[bt] (1) 1   libmxnet.so                         0x0000000110575241 _ZN2ps10PostofficeC2Ev + 1473\n[bt] (2) 2   libmxnet.so                         0x0000000110572f00 _ZN2ps8CustomerC2EiRKNSt3__18functionIFvRKNS_7MessageEEEE + 512\n[bt] (3) 3   libmxnet.so                         0x00000001102c7c2b _ZN2ps8KVWorkerIfEC2Ei + 603\n[bt] (4) 4   libmxnet.so                         0x000000011029c41b _ZN5mxnet7kvstore11KVStoreDistC2Eb + 379\n[bt] (5) 5   libmxnet.so                         0x000000011029c066 _ZN5mxnet7KVStore6CreateEPKc + 806\n[bt] (6) 6   libmxnet.so                         0x00000001101b88be MXKVStoreCreate + 14\n[bt] (7) 7   _ctypes.so                          0x000000010b7de7c7 ffi_call_unix64 + 79\n[bt] (8) 8   ???                                 0x00007ffee4e452f0 0x0 + 140732738589424\n",
     "output_type": "error",
     "traceback": [
      "\u001b[0;31m---------------------------------------------------------------------------\u001b[0m",
      "\u001b[0;31mMXNetError\u001b[0m                                Traceback (most recent call last)",
      "\u001b[0;32m<ipython-input-50-78690f23ef4a>\u001b[0m in \u001b[0;36m<module>\u001b[0;34m()\u001b[0m\n\u001b[1;32m      2\u001b[0m \u001b[0mb\u001b[0m \u001b[0;34m=\u001b[0m \u001b[0;34m[\u001b[0m\u001b[0mmx\u001b[0m\u001b[0;34m.\u001b[0m\u001b[0mnd\u001b[0m\u001b[0;34m.\u001b[0m\u001b[0mones\u001b[0m\u001b[0;34m(\u001b[0m\u001b[0;34m(\u001b[0m\u001b[0;36m2\u001b[0m\u001b[0;34m,\u001b[0m\u001b[0;36m3\u001b[0m\u001b[0;34m)\u001b[0m\u001b[0;34m,\u001b[0m\u001b[0mcpu\u001b[0m\u001b[0;34m)\u001b[0m \u001b[0;32mfor\u001b[0m \u001b[0mcpu\u001b[0m \u001b[0;32min\u001b[0m \u001b[0mcpus\u001b[0m\u001b[0;34m]\u001b[0m\u001b[0;34m\u001b[0m\u001b[0m\n\u001b[1;32m      3\u001b[0m \u001b[0;32mprint\u001b[0m \u001b[0mb\u001b[0m\u001b[0;34m\u001b[0m\u001b[0m\n\u001b[0;32m----> 4\u001b[0;31m \u001b[0mkv\u001b[0m \u001b[0;34m=\u001b[0m \u001b[0mmx\u001b[0m\u001b[0;34m.\u001b[0m\u001b[0mkv\u001b[0m\u001b[0;34m.\u001b[0m\u001b[0mcreate\u001b[0m\u001b[0;34m(\u001b[0m\u001b[0;34m'dist_async'\u001b[0m\u001b[0;34m)\u001b[0m\u001b[0;34m\u001b[0m\u001b[0m\n\u001b[0m\u001b[1;32m      5\u001b[0m \u001b[0mkv\u001b[0m\u001b[0;34m.\u001b[0m\u001b[0minit\u001b[0m\u001b[0;34m(\u001b[0m\u001b[0;36m3\u001b[0m\u001b[0;34m,\u001b[0m \u001b[0mmx\u001b[0m\u001b[0;34m.\u001b[0m\u001b[0mnd\u001b[0m\u001b[0;34m.\u001b[0m\u001b[0mones\u001b[0m\u001b[0;34m(\u001b[0m\u001b[0;34m(\u001b[0m\u001b[0;36m2\u001b[0m\u001b[0;34m,\u001b[0m\u001b[0;36m3\u001b[0m\u001b[0;34m)\u001b[0m\u001b[0;34m)\u001b[0m\u001b[0;34m*\u001b[0m\u001b[0;36m2\u001b[0m\u001b[0;34m)\u001b[0m\u001b[0;34m\u001b[0m\u001b[0m\n\u001b[1;32m      6\u001b[0m \u001b[0ma\u001b[0m \u001b[0;34m=\u001b[0m \u001b[0mmx\u001b[0m\u001b[0;34m.\u001b[0m\u001b[0mnd\u001b[0m\u001b[0;34m.\u001b[0m\u001b[0mzeros\u001b[0m\u001b[0;34m(\u001b[0m\u001b[0;34m(\u001b[0m\u001b[0;36m2\u001b[0m\u001b[0;34m,\u001b[0m\u001b[0;36m3\u001b[0m\u001b[0;34m)\u001b[0m\u001b[0;34m)\u001b[0m\u001b[0;34m\u001b[0m\u001b[0m\n",
      "\u001b[0;32m/usr/local/lib/python2.7/site-packages/mxnet/kvstore.pyc\u001b[0m in \u001b[0;36mcreate\u001b[0;34m(name)\u001b[0m\n\u001b[1;32m    567\u001b[0m     \u001b[0mhandle\u001b[0m \u001b[0;34m=\u001b[0m \u001b[0mKVStoreHandle\u001b[0m\u001b[0;34m(\u001b[0m\u001b[0;34m)\u001b[0m\u001b[0;34m\u001b[0m\u001b[0m\n\u001b[1;32m    568\u001b[0m     check_call(_LIB.MXKVStoreCreate(c_str(name),\n\u001b[0;32m--> 569\u001b[0;31m                                     ctypes.byref(handle)))\n\u001b[0m\u001b[1;32m    570\u001b[0m     \u001b[0;32mreturn\u001b[0m \u001b[0mKVStore\u001b[0m\u001b[0;34m(\u001b[0m\u001b[0mhandle\u001b[0m\u001b[0;34m)\u001b[0m\u001b[0;34m\u001b[0m\u001b[0m\n",
      "\u001b[0;32m/usr/local/lib/python2.7/site-packages/mxnet/base.pyc\u001b[0m in \u001b[0;36mcheck_call\u001b[0;34m(ret)\u001b[0m\n\u001b[1;32m    141\u001b[0m     \"\"\"\n\u001b[1;32m    142\u001b[0m     \u001b[0;32mif\u001b[0m \u001b[0mret\u001b[0m \u001b[0;34m!=\u001b[0m \u001b[0;36m0\u001b[0m\u001b[0;34m:\u001b[0m\u001b[0;34m\u001b[0m\u001b[0m\n\u001b[0;32m--> 143\u001b[0;31m         \u001b[0;32mraise\u001b[0m \u001b[0mMXNetError\u001b[0m\u001b[0;34m(\u001b[0m\u001b[0mpy_str\u001b[0m\u001b[0;34m(\u001b[0m\u001b[0m_LIB\u001b[0m\u001b[0;34m.\u001b[0m\u001b[0mMXGetLastError\u001b[0m\u001b[0;34m(\u001b[0m\u001b[0;34m)\u001b[0m\u001b[0;34m)\u001b[0m\u001b[0;34m)\u001b[0m\u001b[0;34m\u001b[0m\u001b[0m\n\u001b[0m\u001b[1;32m    144\u001b[0m \u001b[0;34m\u001b[0m\u001b[0m\n\u001b[1;32m    145\u001b[0m \u001b[0;32mif\u001b[0m \u001b[0msys\u001b[0m\u001b[0;34m.\u001b[0m\u001b[0mversion_info\u001b[0m\u001b[0;34m[\u001b[0m\u001b[0;36m0\u001b[0m\u001b[0;34m]\u001b[0m \u001b[0;34m<\u001b[0m \u001b[0;36m3\u001b[0m\u001b[0;34m:\u001b[0m\u001b[0;34m\u001b[0m\u001b[0m\n",
      "\u001b[0;31mMXNetError\u001b[0m: [02:08:14] src/postoffice.cc:16: Check  notnull: Environment::Get()->find(\"DMLC_NUM_WORKER\") \n\nStack trace returned 9 entries:\n[bt] (0) 0   libmxnet.so                         0x000000010f4091f8 _ZN4dmlc15LogMessageFatalD2Ev + 40\n[bt] (1) 1   libmxnet.so                         0x0000000110575241 _ZN2ps10PostofficeC2Ev + 1473\n[bt] (2) 2   libmxnet.so                         0x0000000110572f00 _ZN2ps8CustomerC2EiRKNSt3__18functionIFvRKNS_7MessageEEEE + 512\n[bt] (3) 3   libmxnet.so                         0x00000001102c7c2b _ZN2ps8KVWorkerIfEC2Ei + 603\n[bt] (4) 4   libmxnet.so                         0x000000011029c41b _ZN5mxnet7kvstore11KVStoreDistC2Eb + 379\n[bt] (5) 5   libmxnet.so                         0x000000011029c066 _ZN5mxnet7KVStore6CreateEPKc + 806\n[bt] (6) 6   libmxnet.so                         0x00000001101b88be MXKVStoreCreate + 14\n[bt] (7) 7   _ctypes.so                          0x000000010b7de7c7 ffi_call_unix64 + 79\n[bt] (8) 8   ???                                 0x00007ffee4e452f0 0x0 + 140732738589424\n"
     ]
    }
   ],
   "source": [
    "cpus = [mx.cpu(0),mx.cpu(1)]\n",
    "b = [mx.nd.ones((2,3),cpu) for cpu in cpus]\n",
    "print b\n",
    "kv = mx.kv.create('dist_async')\n",
    "kv.init(3, mx.nd.ones((2,3))*2)\n",
    "a = mx.nd.zeros((2,3))\n",
    "kv.push(3,b)\n",
    "kv.pull(3, out = a)\n",
    "print a.asnumpy"
   ]
  },
  {
   "cell_type": "code",
   "execution_count": null,
   "metadata": {
    "collapsed": true,
    "deletable": true,
    "editable": true
   },
   "outputs": [],
   "source": []
  }
 ],
 "metadata": {
  "kernelspec": {
   "display_name": "Python 2",
   "language": "python",
   "name": "python2"
  },
  "language_info": {
   "codemirror_mode": {
    "name": "ipython",
    "version": 2
   },
   "file_extension": ".py",
   "mimetype": "text/x-python",
   "name": "python",
   "nbconvert_exporter": "python",
   "pygments_lexer": "ipython2",
   "version": "2.7.10"
  }
 },
 "nbformat": 4,
 "nbformat_minor": 2
}
